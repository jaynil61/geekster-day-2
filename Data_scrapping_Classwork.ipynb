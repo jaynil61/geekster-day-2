{
 "cells": [
  {
   "cell_type": "markdown",
   "id": "e96941f2",
   "metadata": {},
   "source": [
    "# Data Scrapping Classwork           - Jaynil Patel"
   ]
  },
  {
   "cell_type": "markdown",
   "id": "7a7bf0d3",
   "metadata": {},
   "source": [
    "## Importing required libraries"
   ]
  },
  {
   "cell_type": "code",
   "execution_count": 68,
   "id": "1cabed65",
   "metadata": {},
   "outputs": [],
   "source": [
    "import requests\n",
    "from bs4 import BeautifulSoup\n",
    "import pandas as pd\n",
    "import html5lib"
   ]
  },
  {
   "cell_type": "code",
   "execution_count": 2,
   "id": "2a418492",
   "metadata": {},
   "outputs": [
    {
     "name": "stdout",
     "output_type": "stream",
     "text": [
      "Requirement already satisfied: html5lib in c:\\users\\jaynil patel\\anaconda3\\lib\\site-packages (1.1)\n",
      "Requirement already satisfied: six>=1.9 in c:\\users\\jaynil patel\\anaconda3\\lib\\site-packages (from html5lib) (1.16.0)\n",
      "Requirement already satisfied: webencodings in c:\\users\\jaynil patel\\anaconda3\\lib\\site-packages (from html5lib) (0.5.1)\n"
     ]
    }
   ],
   "source": [
    "!pip install html5lib"
   ]
  },
  {
   "cell_type": "markdown",
   "id": "d0ecf1ba",
   "metadata": {},
   "source": [
    "## Defining headers and URL"
   ]
  },
  {
   "cell_type": "code",
   "execution_count": 69,
   "id": "25395033",
   "metadata": {},
   "outputs": [],
   "source": [
    "headers = {'User-Agent':'Mozzila/5.0'}\n",
    "url = 'https://en.wikipedia.org/wiki/List_of_states_and_territories_of_the_United_States'"
   ]
  },
  {
   "cell_type": "markdown",
   "id": "44a9cfeb",
   "metadata": {},
   "source": [
    "## Getting the response"
   ]
  },
  {
   "cell_type": "code",
   "execution_count": 70,
   "id": "5571b4b1",
   "metadata": {},
   "outputs": [
    {
     "data": {
      "text/plain": [
       "<Response [200]>"
      ]
     },
     "execution_count": 70,
     "metadata": {},
     "output_type": "execute_result"
    }
   ],
   "source": [
    "response = requests.get(url, headers)\n",
    "response"
   ]
  },
  {
   "cell_type": "markdown",
   "id": "c9ea0381",
   "metadata": {},
   "source": [
    "## Parsing the response content using BeautifulSoup"
   ]
  },
  {
   "cell_type": "code",
   "execution_count": 71,
   "id": "7d005baf",
   "metadata": {},
   "outputs": [],
   "source": [
    "soup = BeautifulSoup(response.content,'html.parser')"
   ]
  },
  {
   "cell_type": "markdown",
   "id": "f1d8a4a6",
   "metadata": {},
   "source": [
    "#### Getting all the tags having class = 'wikitable' using the read_html() method of pandas. They are Tables.\n",
    "#### As we want only first table which is containg USA states data, we will get it by writing tables[0] and store it into df."
   ]
  },
  {
   "cell_type": "code",
   "execution_count": 72,
   "id": "b4b62343",
   "metadata": {},
   "outputs": [],
   "source": [
    "tables = pd.read_html(str(soup), attrs={\"class\": \"wikitable\"})\n",
    "df = tables[0]"
   ]
  },
  {
   "cell_type": "code",
   "execution_count": 73,
   "id": "fa12f265",
   "metadata": {},
   "outputs": [
    {
     "data": {
      "text/html": [
       "<div>\n",
       "<style scoped>\n",
       "    .dataframe tbody tr th:only-of-type {\n",
       "        vertical-align: middle;\n",
       "    }\n",
       "\n",
       "    .dataframe tbody tr th {\n",
       "        vertical-align: top;\n",
       "    }\n",
       "\n",
       "    .dataframe thead tr th {\n",
       "        text-align: left;\n",
       "    }\n",
       "</style>\n",
       "<table border=\"1\" class=\"dataframe\">\n",
       "  <thead>\n",
       "    <tr>\n",
       "      <th></th>\n",
       "      <th colspan=\"2\" halign=\"left\">Flag, name andpostal abbreviation[8]</th>\n",
       "      <th colspan=\"2\" halign=\"left\">Cities</th>\n",
       "      <th>Ratification oradmission[A]</th>\n",
       "      <th>Population(2020)[10]</th>\n",
       "      <th colspan=\"2\" halign=\"left\">Total area[11]</th>\n",
       "      <th>Reps.</th>\n",
       "    </tr>\n",
       "    <tr>\n",
       "      <th></th>\n",
       "      <th>Flag, name andpostal abbreviation[8]</th>\n",
       "      <th>Flag, name andpostal abbreviation[8].1</th>\n",
       "      <th>Capital</th>\n",
       "      <th>Largest[12]</th>\n",
       "      <th>Ratification oradmission[A]</th>\n",
       "      <th>Population(2020)[10]</th>\n",
       "      <th>mi2</th>\n",
       "      <th>km2</th>\n",
       "      <th>Reps.</th>\n",
       "    </tr>\n",
       "  </thead>\n",
       "  <tbody>\n",
       "    <tr>\n",
       "      <th>0</th>\n",
       "      <td>Alabama</td>\n",
       "      <td>AL</td>\n",
       "      <td>Montgomery</td>\n",
       "      <td>Huntsville</td>\n",
       "      <td>Dec 14, 1819</td>\n",
       "      <td>5024279</td>\n",
       "      <td>52420</td>\n",
       "      <td>135767</td>\n",
       "      <td>7</td>\n",
       "    </tr>\n",
       "    <tr>\n",
       "      <th>1</th>\n",
       "      <td>Alaska</td>\n",
       "      <td>AK</td>\n",
       "      <td>Juneau</td>\n",
       "      <td>Anchorage</td>\n",
       "      <td>Jan 3, 1959</td>\n",
       "      <td>733391</td>\n",
       "      <td>665384</td>\n",
       "      <td>1723337</td>\n",
       "      <td>1</td>\n",
       "    </tr>\n",
       "    <tr>\n",
       "      <th>2</th>\n",
       "      <td>Arizona</td>\n",
       "      <td>AZ</td>\n",
       "      <td>Phoenix</td>\n",
       "      <td>Phoenix</td>\n",
       "      <td>Feb 14, 1912</td>\n",
       "      <td>7151502</td>\n",
       "      <td>113990</td>\n",
       "      <td>295234</td>\n",
       "      <td>9</td>\n",
       "    </tr>\n",
       "    <tr>\n",
       "      <th>3</th>\n",
       "      <td>Arkansas</td>\n",
       "      <td>AR</td>\n",
       "      <td>Little Rock</td>\n",
       "      <td>Little Rock</td>\n",
       "      <td>Jun 15, 1836</td>\n",
       "      <td>3011524</td>\n",
       "      <td>53179</td>\n",
       "      <td>137732</td>\n",
       "      <td>4</td>\n",
       "    </tr>\n",
       "    <tr>\n",
       "      <th>4</th>\n",
       "      <td>California</td>\n",
       "      <td>CA</td>\n",
       "      <td>Sacramento</td>\n",
       "      <td>Los Angeles</td>\n",
       "      <td>Sep 9, 1850</td>\n",
       "      <td>39538223</td>\n",
       "      <td>163695</td>\n",
       "      <td>423967</td>\n",
       "      <td>52</td>\n",
       "    </tr>\n",
       "  </tbody>\n",
       "</table>\n",
       "</div>"
      ],
      "text/plain": [
       "  Flag, name andpostal abbreviation[8]                                         \\\n",
       "  Flag, name andpostal abbreviation[8] Flag, name andpostal abbreviation[8].1   \n",
       "0                              Alabama                                     AL   \n",
       "1                               Alaska                                     AK   \n",
       "2                              Arizona                                     AZ   \n",
       "3                             Arkansas                                     AR   \n",
       "4                           California                                     CA   \n",
       "\n",
       "        Cities              Ratification oradmission[A] Population(2020)[10]  \\\n",
       "       Capital  Largest[12] Ratification oradmission[A] Population(2020)[10]   \n",
       "0   Montgomery   Huntsville                Dec 14, 1819              5024279   \n",
       "1       Juneau    Anchorage                 Jan 3, 1959               733391   \n",
       "2      Phoenix      Phoenix                Feb 14, 1912              7151502   \n",
       "3  Little Rock  Little Rock                Jun 15, 1836              3011524   \n",
       "4   Sacramento  Los Angeles                 Sep 9, 1850             39538223   \n",
       "\n",
       "  Total area[11]          Reps.  \n",
       "             mi2      km2 Reps.  \n",
       "0          52420   135767     7  \n",
       "1         665384  1723337     1  \n",
       "2         113990   295234     9  \n",
       "3          53179   137732     4  \n",
       "4         163695   423967    52  "
      ]
     },
     "execution_count": 73,
     "metadata": {},
     "output_type": "execute_result"
    }
   ],
   "source": [
    "df.head()"
   ]
  },
  {
   "cell_type": "markdown",
   "id": "9eda68c8",
   "metadata": {},
   "source": [
    "## We need all the rows and 0th and 5th column(State name and Population). so it is sliced using iloc function of pandas."
   ]
  },
  {
   "cell_type": "code",
   "execution_count": 74,
   "id": "9535a10d",
   "metadata": {},
   "outputs": [],
   "source": [
    "new_df = df.iloc[:,[0,5]]"
   ]
  },
  {
   "cell_type": "markdown",
   "id": "c628fb20",
   "metadata": {},
   "source": [
    "## The names of the columns are defined."
   ]
  },
  {
   "cell_type": "code",
   "execution_count": 75,
   "id": "5cb9d393",
   "metadata": {},
   "outputs": [],
   "source": [
    "new_df.columns = ['State', 'Population']"
   ]
  },
  {
   "cell_type": "code",
   "execution_count": 76,
   "id": "b3cd9e0d",
   "metadata": {},
   "outputs": [
    {
     "data": {
      "text/html": [
       "<div>\n",
       "<style scoped>\n",
       "    .dataframe tbody tr th:only-of-type {\n",
       "        vertical-align: middle;\n",
       "    }\n",
       "\n",
       "    .dataframe tbody tr th {\n",
       "        vertical-align: top;\n",
       "    }\n",
       "\n",
       "    .dataframe thead th {\n",
       "        text-align: right;\n",
       "    }\n",
       "</style>\n",
       "<table border=\"1\" class=\"dataframe\">\n",
       "  <thead>\n",
       "    <tr style=\"text-align: right;\">\n",
       "      <th></th>\n",
       "      <th>State</th>\n",
       "      <th>Population</th>\n",
       "    </tr>\n",
       "  </thead>\n",
       "  <tbody>\n",
       "    <tr>\n",
       "      <th>0</th>\n",
       "      <td>Alabama</td>\n",
       "      <td>5024279</td>\n",
       "    </tr>\n",
       "    <tr>\n",
       "      <th>1</th>\n",
       "      <td>Alaska</td>\n",
       "      <td>733391</td>\n",
       "    </tr>\n",
       "    <tr>\n",
       "      <th>2</th>\n",
       "      <td>Arizona</td>\n",
       "      <td>7151502</td>\n",
       "    </tr>\n",
       "    <tr>\n",
       "      <th>3</th>\n",
       "      <td>Arkansas</td>\n",
       "      <td>3011524</td>\n",
       "    </tr>\n",
       "    <tr>\n",
       "      <th>4</th>\n",
       "      <td>California</td>\n",
       "      <td>39538223</td>\n",
       "    </tr>\n",
       "  </tbody>\n",
       "</table>\n",
       "</div>"
      ],
      "text/plain": [
       "        State  Population\n",
       "0     Alabama     5024279\n",
       "1      Alaska      733391\n",
       "2     Arizona     7151502\n",
       "3    Arkansas     3011524\n",
       "4  California    39538223"
      ]
     },
     "execution_count": 76,
     "metadata": {},
     "output_type": "execute_result"
    }
   ],
   "source": [
    "new_df.head()"
   ]
  },
  {
   "cell_type": "markdown",
   "id": "2ca6bdf8",
   "metadata": {},
   "source": [
    "## Converting the DataFrame into csv file."
   ]
  },
  {
   "cell_type": "code",
   "execution_count": 77,
   "id": "6d156a47",
   "metadata": {},
   "outputs": [],
   "source": [
    "new_df.to_csv('states_population.csv',index=False)"
   ]
  }
 ],
 "metadata": {
  "kernelspec": {
   "display_name": "Python 3 (ipykernel)",
   "language": "python",
   "name": "python3"
  },
  "language_info": {
   "codemirror_mode": {
    "name": "ipython",
    "version": 3
   },
   "file_extension": ".py",
   "mimetype": "text/x-python",
   "name": "python",
   "nbconvert_exporter": "python",
   "pygments_lexer": "ipython3",
   "version": "3.9.12"
  }
 },
 "nbformat": 4,
 "nbformat_minor": 5
}
