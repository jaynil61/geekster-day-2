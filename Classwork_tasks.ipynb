{
 "cells": [
  {
   "cell_type": "code",
   "execution_count": 1,
   "id": "0b169e13",
   "metadata": {},
   "outputs": [],
   "source": [
    "import os\n",
    "import shutil"
   ]
  },
  {
   "cell_type": "markdown",
   "id": "f1808953",
   "metadata": {},
   "source": [
    "# Creating a new Directory"
   ]
  },
  {
   "cell_type": "code",
   "execution_count": 2,
   "id": "a905635b",
   "metadata": {},
   "outputs": [],
   "source": [
    "os.makedirs('New_directory', exist_ok=True)"
   ]
  },
  {
   "cell_type": "markdown",
   "id": "c1fe3b5a",
   "metadata": {},
   "source": [
    "# Listing all files and directories in the current working directory"
   ]
  },
  {
   "cell_type": "code",
   "execution_count": 3,
   "id": "35b90da1",
   "metadata": {},
   "outputs": [
    {
     "name": "stdout",
     "output_type": "stream",
     "text": [
      "['.ipynb_checkpoints', 'Classwork_tasks.ipynb', 'New_directory']\n"
     ]
    }
   ],
   "source": [
    "print(os.listdir())"
   ]
  },
  {
   "cell_type": "markdown",
   "id": "18b20bc6",
   "metadata": {},
   "source": [
    "# Creating a new text file within the newly created directory and write some content to it"
   ]
  },
  {
   "cell_type": "code",
   "execution_count": 4,
   "id": "f05ecaf6",
   "metadata": {},
   "outputs": [],
   "source": [
    "file_path = os.path.join('New_directory','xyz.txt')\n",
    "\n",
    "with open(file_path, 'w') as f:\n",
    "    f.write('Hello, this is xyz text file.')"
   ]
  },
  {
   "cell_type": "markdown",
   "id": "a87492ac",
   "metadata": {},
   "source": [
    "# Reading the content of the newly created text file"
   ]
  },
  {
   "cell_type": "code",
   "execution_count": 5,
   "id": "380fa0ae",
   "metadata": {},
   "outputs": [
    {
     "name": "stdout",
     "output_type": "stream",
     "text": [
      "Hello, this is xyz text file.\n"
     ]
    }
   ],
   "source": [
    "with open(file_path, 'r') as f:\n",
    "    print(f.read())"
   ]
  },
  {
   "cell_type": "markdown",
   "id": "e7ee6f2b",
   "metadata": {},
   "source": [
    "# Renaming the text file"
   ]
  },
  {
   "cell_type": "code",
   "execution_count": 6,
   "id": "3143f73e",
   "metadata": {},
   "outputs": [],
   "source": [
    "os.rename('New_directory/xyz.txt', 'New_directory/pqr.txt')"
   ]
  },
  {
   "cell_type": "markdown",
   "id": "34c07e98",
   "metadata": {},
   "source": [
    "# Listing all files and directories in the new directory after renaming the file"
   ]
  },
  {
   "cell_type": "code",
   "execution_count": 7,
   "id": "67175e30",
   "metadata": {},
   "outputs": [
    {
     "name": "stdout",
     "output_type": "stream",
     "text": [
      "['pqr.txt']\n"
     ]
    }
   ],
   "source": [
    "print(os.listdir('New_directory'))"
   ]
  },
  {
   "cell_type": "markdown",
   "id": "15a21632",
   "metadata": {},
   "source": [
    "# Deleting the new directory and its contents"
   ]
  },
  {
   "cell_type": "code",
   "execution_count": 8,
   "id": "3ec01dde",
   "metadata": {},
   "outputs": [],
   "source": [
    "shutil.rmtree('New_directory')"
   ]
  },
  {
   "cell_type": "code",
   "execution_count": null,
   "id": "d7c09d46",
   "metadata": {},
   "outputs": [],
   "source": []
  }
 ],
 "metadata": {
  "kernelspec": {
   "display_name": "Python 3 (ipykernel)",
   "language": "python",
   "name": "python3"
  },
  "language_info": {
   "codemirror_mode": {
    "name": "ipython",
    "version": 3
   },
   "file_extension": ".py",
   "mimetype": "text/x-python",
   "name": "python",
   "nbconvert_exporter": "python",
   "pygments_lexer": "ipython3",
   "version": "3.9.12"
  }
 },
 "nbformat": 4,
 "nbformat_minor": 5
}
